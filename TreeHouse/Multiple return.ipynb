{
 "cells": [
  {
   "cell_type": "code",
   "execution_count": 1,
   "metadata": {},
   "outputs": [
    {
     "data": {
      "text/plain": [
       "[(0, 'a'), (1, 'b'), (2, 'c')]"
      ]
     },
     "execution_count": 1,
     "metadata": {},
     "output_type": "execute_result"
    }
   ],
   "source": [
    "list(enumerate(\"abc\"))"
   ]
  },
  {
   "cell_type": "code",
   "execution_count": 2,
   "metadata": {},
   "outputs": [
    {
     "name": "stdout",
     "output_type": "stream",
     "text": [
      "1: a\n",
      "2: b\n",
      "3: c\n",
      "4: d\n",
      "5: e\n",
      "6: f\n",
      "7: g\n",
      "8: h\n",
      "9: i\n",
      "10: j\n",
      "11: k\n",
      "12: l\n",
      "13: m\n",
      "14: n\n",
      "15: o\n",
      "16: p\n",
      "17: q\n",
      "18: r\n",
      "19: s\n",
      "20: t\n",
      "21: u\n",
      "22: v\n",
      "23: w\n",
      "24: x\n",
      "25: y\n",
      "26: z\n"
     ]
    }
   ],
   "source": [
    "for index, letter in enumerate(\"abcdefghijklmnopqrstuvwxyz\"):\n",
    "    print(\"{}: {}\".format(index + 1, letter))"
   ]
  },
  {
   "cell_type": "markdown",
   "metadata": {},
   "source": [
    "> funny I've made a whole functions and the methods could be just applied to the strings"
   ]
  },
  {
   "cell_type": "code",
   "execution_count": 15,
   "metadata": {},
   "outputs": [
    {
     "name": "stdout",
     "output_type": "stream",
     "text": [
      "WHEN YOU ARE OLD ENOUGH TO HEAR THESE WORDS\n",
      "when you are old enough to hear these words\n",
      "When You Are Old Enough To Hear These Words\n",
      "words these hear to enough old are you When\n"
     ]
    }
   ],
   "source": [
    "def stringcases(some_string):\n",
    "    string_list = some_string.split()\n",
    "    all_upper = []\n",
    "    all_lower = []\n",
    "    all_title = []\n",
    "    for word in string_list:\n",
    "        all_upper.append(word.upper())\n",
    "        all_lower.append(word.lower())\n",
    "        all_title.append(word.title())\n",
    "        \n",
    "    all_reverse = string_list[-1::-1]\n",
    "    return \" \".join(all_upper), \" \".join(all_lower), \" \".join(all_title), \" \".join(all_reverse)\n",
    " \n",
    "result = stringcases(\"When you are old enough to hear these words\")\n",
    "for item in result:\n",
    "    print(item)"
   ]
  },
  {
   "cell_type": "code",
   "execution_count": 16,
   "metadata": {},
   "outputs": [
    {
     "data": {
      "text/plain": [
       "'When You Are Old Enough To Hear These Words'"
      ]
     },
     "execution_count": 16,
     "metadata": {},
     "output_type": "execute_result"
    }
   ],
   "source": [
    "\"When you are old enough to hear these words\".title()"
   ]
  },
  {
   "cell_type": "code",
   "execution_count": 18,
   "metadata": {},
   "outputs": [
    {
     "data": {
      "text/plain": [
       "'sdrow eseht raeh ot hguone dlo era uoy nehW'"
      ]
     },
     "execution_count": 18,
     "metadata": {},
     "output_type": "execute_result"
    }
   ],
   "source": [
    "\"When you are old enough to hear these words\"[::-1]"
   ]
  },
  {
   "cell_type": "code",
   "execution_count": 28,
   "metadata": {},
   "outputs": [
    {
     "name": "stdout",
     "output_type": "stream",
     "text": [
      "[(1, 'a'), (2, 'b'), (3, 's')]\n"
     ]
    }
   ],
   "source": [
    "iter1 = [1, 2, 3]\n",
    "iter2 = \"abs\"\n",
    "result = []\n",
    "for k, v in zip(iter1, iter2):\n",
    "    result.append((k,v))\n",
    "print(result)\n"
   ]
  },
  {
   "cell_type": "code",
   "execution_count": 27,
   "metadata": {},
   "outputs": [
    {
     "data": {
      "text/plain": [
       "[(1, 2)]"
      ]
     },
     "execution_count": 27,
     "metadata": {},
     "output_type": "execute_result"
    }
   ],
   "source": [
    "l = []\n",
    "l.append((1,2))\n",
    "l"
   ]
  },
  {
   "cell_type": "code",
   "execution_count": null,
   "metadata": {},
   "outputs": [],
   "source": [
    "def combo(*arg):\n",
    "    my_result = []\n",
    "    for index, val in enumerate(arg[0]):\n",
    "        my_result.append((val, arg[1][index]))\n",
    "    return my_result"
   ]
  },
  {
   "cell_type": "code",
   "execution_count": 30,
   "metadata": {},
   "outputs": [
    {
     "name": "stdout",
     "output_type": "stream",
     "text": [
      "[1, 2, 3]\n"
     ]
    }
   ],
   "source": [
    "def foo(*args):\n",
    "    print(args[0])\n",
    "    \n",
    "iter1 = [1, 2, 3]\n",
    "iter2 = \"abs\"\n",
    "foo(iter1, iter2)\n"
   ]
  },
  {
   "cell_type": "code",
   "execution_count": null,
   "metadata": {},
   "outputs": [],
   "source": []
  },
  {
   "cell_type": "code",
   "execution_count": null,
   "metadata": {},
   "outputs": [],
   "source": []
  },
  {
   "cell_type": "code",
   "execution_count": null,
   "metadata": {},
   "outputs": [],
   "source": []
  }
 ],
 "metadata": {
  "kernelspec": {
   "display_name": "Python 3",
   "language": "python",
   "name": "python3"
  },
  "language_info": {
   "codemirror_mode": {
    "name": "ipython",
    "version": 3
   },
   "file_extension": ".py",
   "mimetype": "text/x-python",
   "name": "python",
   "nbconvert_exporter": "python",
   "pygments_lexer": "ipython3",
   "version": "3.7.2"
  }
 },
 "nbformat": 4,
 "nbformat_minor": 2
}
