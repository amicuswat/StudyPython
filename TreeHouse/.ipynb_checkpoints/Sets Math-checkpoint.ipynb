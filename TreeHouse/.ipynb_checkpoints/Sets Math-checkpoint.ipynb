{
 "cells": [
  {
   "cell_type": "code",
   "execution_count": 2,
   "metadata": {},
   "outputs": [],
   "source": [
    "set1 = set(range(10))\n",
    "set2 = {1, 2, 3, 5, 7 ,11, 13, 17, 19, 23}"
   ]
  },
  {
   "cell_type": "markdown",
   "metadata": {},
   "source": [
    "> Union does not affects the sets them self different to add"
   ]
  },
  {
   "cell_type": "code",
   "execution_count": 3,
   "metadata": {},
   "outputs": [
    {
     "data": {
      "text/plain": [
       "{0, 1, 2, 3, 4, 5, 6, 7, 8, 9, 11, 13, 17, 19, 23}"
      ]
     },
     "execution_count": 3,
     "metadata": {},
     "output_type": "execute_result"
    }
   ],
   "source": [
    "set1.union(set2)"
   ]
  },
  {
   "cell_type": "code",
   "execution_count": 4,
   "metadata": {},
   "outputs": [
    {
     "data": {
      "text/plain": [
       "{0, 1, 2, 3, 4, 5, 6, 7, 8, 9, 11, 13, 17, 19, 23}"
      ]
     },
     "execution_count": 4,
     "metadata": {},
     "output_type": "execute_result"
    }
   ],
   "source": [
    "set1|set2 #it can be used for union too"
   ]
  },
  {
   "cell_type": "code",
   "execution_count": 5,
   "metadata": {},
   "outputs": [
    {
     "data": {
      "text/plain": [
       "{0, 4, 6, 8, 9}"
      ]
     },
     "execution_count": 5,
     "metadata": {},
     "output_type": "execute_result"
    }
   ],
   "source": [
    "set1.difference(set2)"
   ]
  },
  {
   "cell_type": "code",
   "execution_count": 6,
   "metadata": {},
   "outputs": [
    {
     "data": {
      "text/plain": [
       "{11, 13, 17, 19, 23}"
      ]
     },
     "execution_count": 6,
     "metadata": {},
     "output_type": "execute_result"
    }
   ],
   "source": [
    "set2.difference(set1)"
   ]
  },
  {
   "cell_type": "code",
   "execution_count": 7,
   "metadata": {},
   "outputs": [
    {
     "data": {
      "text/plain": [
       "{0, 4, 6, 8, 9}"
      ]
     },
     "execution_count": 7,
     "metadata": {},
     "output_type": "execute_result"
    }
   ],
   "source": [
    "set1 - set2"
   ]
  },
  {
   "cell_type": "code",
   "execution_count": 8,
   "metadata": {},
   "outputs": [
    {
     "data": {
      "text/plain": [
       "{11, 13, 17, 19, 23}"
      ]
     },
     "execution_count": 8,
     "metadata": {},
     "output_type": "execute_result"
    }
   ],
   "source": [
    "set2 - set1"
   ]
  },
  {
   "cell_type": "markdown",
   "metadata": {},
   "source": [
    "> ^ used for difference of both sets"
   ]
  },
  {
   "cell_type": "code",
   "execution_count": 9,
   "metadata": {},
   "outputs": [
    {
     "data": {
      "text/plain": [
       "{0, 4, 6, 8, 9, 11, 13, 17, 19, 23}"
      ]
     },
     "execution_count": 9,
     "metadata": {},
     "output_type": "execute_result"
    }
   ],
   "source": [
    "set1 ^ set2"
   ]
  },
  {
   "cell_type": "code",
   "execution_count": 10,
   "metadata": {},
   "outputs": [
    {
     "data": {
      "text/plain": [
       "{0, 4, 6, 8, 9, 11, 13, 17, 19, 23}"
      ]
     },
     "execution_count": 10,
     "metadata": {},
     "output_type": "execute_result"
    }
   ],
   "source": [
    "set1.symmetric_difference(set2)"
   ]
  },
  {
   "cell_type": "code",
   "execution_count": 11,
   "metadata": {},
   "outputs": [
    {
     "data": {
      "text/plain": [
       "{1, 2, 3, 5, 7}"
      ]
     },
     "execution_count": 11,
     "metadata": {},
     "output_type": "execute_result"
    }
   ],
   "source": [
    "set1.intersection(set2)"
   ]
  },
  {
   "cell_type": "code",
   "execution_count": 12,
   "metadata": {},
   "outputs": [
    {
     "data": {
      "text/plain": [
       "{1, 2, 3, 5, 7}"
      ]
     },
     "execution_count": 12,
     "metadata": {},
     "output_type": "execute_result"
    }
   ],
   "source": [
    "set1 & set2"
   ]
  },
  {
   "cell_type": "code",
   "execution_count": 13,
   "metadata": {},
   "outputs": [
    {
     "data": {
      "text/plain": [
       "['Ruby Basics']"
      ]
     },
     "execution_count": 13,
     "metadata": {},
     "output_type": "execute_result"
    }
   ],
   "source": [
    "COURSES = {\n",
    "    \"Python Basics\": {\"Python\", \"functions\", \"variables\",\n",
    "                      \"booleans\", \"integers\", \"floats\",\n",
    "                      \"arrays\", \"strings\", \"exceptions\",\n",
    "                      \"conditions\", \"input\", \"loops\"},\n",
    "    \"Java Basics\": {\"Java\", \"strings\", \"variables\",\n",
    "                    \"input\", \"exceptions\", \"integers\",\n",
    "                    \"booleans\", \"loops\"},\n",
    "    \"PHP Basics\": {\"PHP\", \"variables\", \"conditions\",\n",
    "                   \"integers\", \"floats\", \"strings\",\n",
    "                   \"booleans\", \"HTML\"},\n",
    "    \"Ruby Basics\": {\"Ruby\", \"strings\", \"floats\",\n",
    "                    \"integers\", \"conditions\",\n",
    "                    \"functions\", \"input\"}\n",
    "}\n",
    "\n",
    "def covers(arg):\n",
    "    hold = []\n",
    "    for key, value in COURSES.items():\n",
    "        if value & arg:\n",
    "            hold.append(key)\n",
    "    return hold\n",
    "covers({'Ruby'})"
   ]
  },
  {
   "cell_type": "code",
   "execution_count": 20,
   "metadata": {},
   "outputs": [
    {
     "data": {
      "text/plain": [
       "False"
      ]
     },
     "execution_count": 20,
     "metadata": {},
     "output_type": "execute_result"
    }
   ],
   "source": [
    "set3 = {1, 2, 3, 4}\n",
    "set4 = {1, 2, 5}\n",
    "set4 - set3 == set()"
   ]
  },
  {
   "cell_type": "code",
   "execution_count": 25,
   "metadata": {},
   "outputs": [
    {
     "name": "stdout",
     "output_type": "stream",
     "text": [
      "set()\n",
      "{'conditions'}\n",
      "{'input'}\n",
      "set()\n",
      "['Python Basics', 'Ruby Basics']\n"
     ]
    }
   ],
   "source": [
    "COURSES = {\n",
    "    \"Python Basics\": {\"Python\", \"functions\", \"variables\",\n",
    "                      \"booleans\", \"integers\", \"floats\",\n",
    "                      \"arrays\", \"strings\", \"exceptions\",\n",
    "                      \"conditions\", \"input\", \"loops\"},\n",
    "    \"Java Basics\": {\"Java\", \"strings\", \"variables\",\n",
    "                    \"input\", \"exceptions\", \"integers\",\n",
    "                    \"booleans\", \"loops\"},\n",
    "    \"PHP Basics\": {\"PHP\", \"variables\", \"conditions\",\n",
    "                   \"integers\", \"floats\", \"strings\",\n",
    "                   \"booleans\", \"HTML\"},\n",
    "    \"Ruby Basics\": {\"Ruby\", \"strings\", \"floats\",\n",
    "                    \"integers\", \"conditions\",\n",
    "                    \"functions\", \"input\"}\n",
    "}\n",
    "\n",
    "def covers_all(arg):\n",
    "    hold = []\n",
    "    for key, value in COURSES.items():\n",
    "        \n",
    "        print(arg - value)\n",
    "        if arg - value == set():\n",
    "            hold.append(key)\n",
    "    return hold\n",
    "\n",
    "print(covers_all({\"conditions\", \"input\"}))"
   ]
  },
  {
   "cell_type": "code",
   "execution_count": 1,
   "metadata": {},
   "outputs": [
    {
     "data": {
      "text/plain": [
       "{'h', 'o'}"
      ]
     },
     "execution_count": 1,
     "metadata": {},
     "output_type": "execute_result"
    }
   ],
   "source": [
    "set(\"oklahoma\") & set(\"ohio\")"
   ]
  },
  {
   "cell_type": "code",
   "execution_count": null,
   "metadata": {},
   "outputs": [],
   "source": []
  },
  {
   "cell_type": "code",
   "execution_count": null,
   "metadata": {},
   "outputs": [],
   "source": []
  }
 ],
 "metadata": {
  "kernelspec": {
   "display_name": "Python 3",
   "language": "python",
   "name": "python3"
  },
  "language_info": {
   "codemirror_mode": {
    "name": "ipython",
    "version": 3
   },
   "file_extension": ".py",
   "mimetype": "text/x-python",
   "name": "python",
   "nbconvert_exporter": "python",
   "pygments_lexer": "ipython3",
   "version": "3.7.2"
  }
 },
 "nbformat": 4,
 "nbformat_minor": 2
}
